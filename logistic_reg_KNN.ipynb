{
 "cells": [
  {
   "cell_type": "code",
   "execution_count": 351,
   "id": "daed626e",
   "metadata": {},
   "outputs": [],
   "source": [
    "import numpy as np\n",
    "import time\n",
    "import pandas as pd\n",
    "\n",
    "import seaborn as sns\n",
    "import matplotlib.pyplot as plt\n",
    "\n",
    "from sklearn.linear_model import LogisticRegression\n",
    "from sklearn.neighbors import KNeighborsClassifier as KNN\n",
    "from sklearn.ensemble import AdaBoostClassifier as AdaBoost\n",
    "from sklearn.model_selection import train_test_split\n",
    "import sklearn.preprocessing as preprocessing\n",
    "import sklearn.metrics as metrics"
   ]
  },
  {
   "cell_type": "code",
   "execution_count": 352,
   "id": "58ab8713",
   "metadata": {},
   "outputs": [],
   "source": [
    "data = pd.read_csv('diabetes_012_health_indicators_BRFSS2015.csv', dtype='int') # load a dataframe with the siabetes health indicators dataset"
   ]
  },
  {
   "cell_type": "code",
   "execution_count": 353,
   "id": "d38e6357",
   "metadata": {},
   "outputs": [],
   "source": [
    "data_x = data.iloc[:,1:].copy() # dataframe of all indicators\n",
    "data_y = data.iloc[:,0].copy() # datafrma with label - had diametes or no diabetes"
   ]
  },
  {
   "cell_type": "code",
   "execution_count": 354,
   "id": "b29d4575",
   "metadata": {
    "scrolled": true
   },
   "outputs": [
    {
     "name": "stdout",
     "output_type": "stream",
     "text": [
      "HighBP [1 0]\n",
      "HighChol [1 0]\n",
      "CholCheck [1 0]\n",
      "BMI [40 25 28 27 24 30 34 26 33 21 23 22 38 32 37 31 29 20 35 45 39 19 47 18\n",
      " 36 43 55 49 42 17 16 41 44 50 59 48 52 46 54 57 53 14 15 51 58 63 61 56\n",
      " 74 62 64 66 73 85 60 67 65 70 82 79 92 68 72 88 96 13 81 71 75 12 77 69\n",
      " 76 87 89 84 95 98 91 86 83 80 90 78]\n",
      "Smoker [1 0]\n",
      "Stroke [0 1]\n",
      "HeartDiseaseorAttack [0 1]\n",
      "PhysActivity [0 1]\n",
      "Fruits [0 1]\n",
      "Veggies [1 0]\n",
      "HvyAlcoholConsump [0 1]\n",
      "AnyHealthcare [1 0]\n",
      "NoDocbcCost [0 1]\n",
      "GenHlth [5 3 2 4 1]\n",
      "MentHlth [18  0 30  3  5 15 10  6 20  2 25  1  4  7  8 21 14 26 29 16 28 11 12 24\n",
      " 17 13 27 19 22  9 23]\n",
      "PhysHlth [15  0 30  2 14 28  7 20  3 10  1  5 17  4 19  6 12 25 27 21 22  8 29 24\n",
      "  9 16 18 23 13 26 11]\n",
      "DiffWalk [1 0]\n",
      "Sex [0 1]\n",
      "Age [ 9  7 11 10  8 13  4  6  2 12  5  1  3]\n",
      "Education [4 6 3 5 2 1]\n",
      "Income [3 1 8 6 4 7 2 5]\n"
     ]
    }
   ],
   "source": [
    "for col in data_x.columns:\n",
    "    print(col, data_x[col].unique())"
   ]
  },
  {
   "cell_type": "markdown",
   "id": "22db21a7",
   "metadata": {},
   "source": [
    "### Data Pre-Processing\n",
    "\n",
    "###### Since BMI ranges from 12 to 98, we can categorize it as 1 - underweight (<18), 2 - healthy (19-24), 3 - overweight (25-29), 4 - obese (30-39), 5 - extremely obese (>39)"
   ]
  },
  {
   "cell_type": "code",
   "execution_count": 355,
   "id": "8af5f19e",
   "metadata": {
    "scrolled": true
   },
   "outputs": [],
   "source": [
    "data_x['BMI'] = data_x['BMI'].replace(np.arange(0,19),1).replace(np.arange(19,25),2).replace(np.arange(25, 30),3).replace(np.arange(30, 39), 4).replace(np.arange(39, 99),5)"
   ]
  },
  {
   "cell_type": "markdown",
   "id": "46f031b2",
   "metadata": {},
   "source": [
    "##### One-hot encode dependent variable \n",
    "In some of the models we will build, we would use a one hot-encoded label vector "
   ]
  },
  {
   "cell_type": "code",
   "execution_count": 245,
   "id": "14d6f867",
   "metadata": {
    "scrolled": true
   },
   "outputs": [],
   "source": [
    "enc = preprocessing.OneHotEncoder().fit(np.array(data_y).reshape([-1,1]))\n",
    "data_y_ohe = enc.transform(np.array(data_y).reshape([-1,1])).toarray()"
   ]
  },
  {
   "cell_type": "markdown",
   "id": "dd355a44",
   "metadata": {},
   "source": [
    "### Data Vizualization\n",
    "\n",
    "#### Number of classes"
   ]
  },
  {
   "cell_type": "code",
   "execution_count": 356,
   "id": "89188ed7",
   "metadata": {},
   "outputs": [
    {
     "name": "stdout",
     "output_type": "stream",
     "text": [
      "Number of observations with no diabetes: 213703\n",
      "Number of observations with pre-diabetes: 4631\n",
      "Number of observations with diabetes: 35346\n"
     ]
    },
    {
     "data": {
      "image/png": "[encoded data removed]",
      "text/plain": [
       "<Figure size 432x288 with 1 Axes>"
      ]
     },
     "metadata": {
      "needs_background": "light"
     },
     "output_type": "display_data"
    }
   ],
   "source": [
    "sns.countplot(x = data_y)\n",
    "plt.xticks([0,1,2], ['No Diabetes', 'Pre-diabetes', 'Diabetes'])\n",
    "plt.xlabel('')\n",
    "plt.ylabel('Number of Observations')\n",
    "plt.title('Class label counts')\n",
    "\n",
    "print('Number of observations with no diabetes:', data_y[data_y==0].count())\n",
    "print('Number of observations with pre-diabetes:', data_y[data_y==1].count())\n",
    "print('Number of observations with diabetes:', data_y[data_y==2].count())"
   ]
  },
  {
   "cell_type": "markdown",
   "id": "9a94ef6b",
   "metadata": {},
   "source": [
    "There is a class imbalance in the CDC diabetes dataset. The number of pre-diabetes and diabetes cases is relatively very small compared to the no diabetes cohort."
   ]
  },
  {
   "cell_type": "markdown",
   "id": "ca029e4a",
   "metadata": {},
   "source": [
    "#### Train-Test Split, Use test dataset as hold-out set"
   ]
  },
  {
   "cell_type": "code",
   "execution_count": 375,
   "id": "b40f8c0f",
   "metadata": {},
   "outputs": [],
   "source": [
    "train_x,test_x,train_y,test_y = train_test_split(data_x,data_y, test_size = 0.1, random_state = 32)"
   ]
  },
  {
   "cell_type": "code",
   "execution_count": 370,
   "id": "3677867c",
   "metadata": {},
   "outputs": [
    {
     "data": {
      "text/plain": [
       "(25368, 21)"
      ]
     },
     "execution_count": 370,
     "metadata": {},
     "output_type": "execute_result"
    }
   ],
   "source": [
    "test_x.shape"
   ]
  },
  {
   "cell_type": "code",
   "execution_count": 379,
   "id": "28d9decc",
   "metadata": {},
   "outputs": [
    {
     "data": {
      "text/plain": [
       "StandardScaler()"
      ]
     },
     "execution_count": 379,
     "metadata": {},
     "output_type": "execute_result"
    }
   ],
   "source": [
    "x=preprocessing.StandardScaler()\n",
    "x.fit(train_x)\n"
   ]
  },
  {
   "cell_type": "code",
   "execution_count": 381,
   "id": "c480c462",
   "metadata": {},
   "outputs": [
    {
     "data": {
      "text/plain": [
       "array([ 1.1540812 , -0.85815932,  0.19761654,  0.95940505,  1.12005916,\n",
       "       -0.20546526, -0.32283242,  0.56691061,  0.75965648,  0.48128544,\n",
       "       -0.24441288,  0.22672066, -0.30231452,  0.4577643 ,  0.10889262,\n",
       "        1.23441234,  2.22530447, -0.88576509, -0.66549563, -0.05128467,\n",
       "       -0.02575314])"
      ]
     },
     "execution_count": 381,
     "metadata": {},
     "output_type": "execute_result"
    }
   ],
   "source": [
    "x.transform(train_x)[0]"
   ]
  },
  {
   "cell_type": "markdown",
   "id": "aa70cdba",
   "metadata": {},
   "source": [
    "#### Logistic Regression - multi-class"
   ]
  },
  {
   "cell_type": "code",
   "execution_count": 253,
   "id": "b667f827",
   "metadata": {},
   "outputs": [],
   "source": [
    "logistic_clf_model = LogisticRegression(multi_class = 'ovr', max_iter=10000)\n",
    "logistic_clf_model.fit(train_x,train_y) # train logistic regression on training data using one vs rest\n",
    "logistic_clf_predict = logistic_clf_model.predict(test_x)"
   ]
  },
  {
   "cell_type": "markdown",
   "id": "324e6691",
   "metadata": {},
   "source": [
    "#### Logistic Regression - model performance on test set"
   ]
  },
  {
   "cell_type": "code",
   "execution_count": 293,
   "id": "6f867bf8",
   "metadata": {},
   "outputs": [
    {
     "name": "stdout",
     "output_type": "stream",
     "text": [
      "\t \u001b[1m  Confusion Matrix \n",
      " \n",
      "  \u001b[0m \t  \t Actual\n"
     ]
    },
    {
     "data": {
      "text/html": [
       "<div>\n",
       "<style scoped>\n",
       "    .dataframe tbody tr th:only-of-type {\n",
       "        vertical-align: middle;\n",
       "    }\n",
       "\n",
       "    .dataframe tbody tr th {\n",
       "        vertical-align: top;\n",
       "    }\n",
       "\n",
       "    .dataframe thead th {\n",
       "        text-align: right;\n",
       "    }\n",
       "</style>\n",
       "<table border=\"1\" class=\"dataframe\">\n",
       "  <thead>\n",
       "    <tr style=\"text-align: right;\">\n",
       "      <th></th>\n",
       "      <th>No Diabetes</th>\n",
       "      <th>Pre-diabetes</th>\n",
       "      <th>Diabetes</th>\n",
       "    </tr>\n",
       "  </thead>\n",
       "  <tbody>\n",
       "    <tr>\n",
       "      <th>No Diabetes</th>\n",
       "      <td>20849</td>\n",
       "      <td>414</td>\n",
       "      <td>2834</td>\n",
       "    </tr>\n",
       "    <tr>\n",
       "      <th>Pre-diabetes</th>\n",
       "      <td>0</td>\n",
       "      <td>0</td>\n",
       "      <td>0</td>\n",
       "    </tr>\n",
       "    <tr>\n",
       "      <th>Diabetes</th>\n",
       "      <td>560</td>\n",
       "      <td>59</td>\n",
       "      <td>652</td>\n",
       "    </tr>\n",
       "  </tbody>\n",
       "</table>\n",
       "</div>"
      ],
      "text/plain": [
       "              No Diabetes  Pre-diabetes  Diabetes\n",
       "No Diabetes         20849           414      2834\n",
       "Pre-diabetes            0             0         0\n",
       "Diabetes              560            59       652"
      ]
     },
     "execution_count": 293,
     "metadata": {},
     "output_type": "execute_result"
    }
   ],
   "source": [
    "cm_logistic_clf = metrics.confusion_matrix(logistic_clf_predict, test_y, labels = [0,1,2])\n",
    "cm_logistic_clf =  pd.DataFrame(cm_logistic_clf, columns= ['No Diabetes', 'Pre-diabetes', 'Diabetes'], index =  ['No Diabetes', 'Pre-diabetes', 'Diabetes'])\n",
    "print('\\t \\033[1m  Confusion Matrix \\n \\n  \\033[0m', '\\t  \\t Actual')\n",
    "cm_logistic_clf"
   ]
  },
  {
   "cell_type": "code",
   "execution_count": 294,
   "id": "a2434bd6",
   "metadata": {},
   "outputs": [
    {
     "name": "stdout",
     "output_type": "stream",
     "text": [
      "F1-score for logistic regression classifier for predicting 0, 1, 2 labels: [0.91631873 0.         0.27412235]\n"
     ]
    }
   ],
   "source": [
    "print('F1-score for logistic regression classifier for predicting 0, 1, 2 labels:', metrics.f1_score(logistic_clf_predict, test_y, labels = [0,1,2], average = None))"
   ]
  },
  {
   "cell_type": "markdown",
   "id": "8ae99bfb",
   "metadata": {},
   "source": [
    "If we classify all the observations as no diabetes: \n",
    "\n",
    "                                           Actual\n",
    "                                  No Diabetes\tPre-diabetes\tDiabetes\n",
    "    \n",
    "                   No Diabetes    \t21409\t         420        \t3539\n",
    "                   \n",
    "     Predicted     Pre-diabetes  \t  0\t              0\t            0\n",
    "\n",
    "                   Diabetes\t          0 \t          0\t            0"
   ]
  },
  {
   "cell_type": "code",
   "execution_count": 256,
   "id": "57891d60",
   "metadata": {},
   "outputs": [
    {
     "name": "stdout",
     "output_type": "stream",
     "text": [
      "F1-score when we classify all observations as no-diabetes: [0.91536439 0.         0.        ]\n"
     ]
    }
   ],
   "source": [
    "print('F1-score when we classify all observations as no-diabetes:', metrics.f1_score(np.zeros(len(logistic_clf_predict)), test_y, labels = [0,1,2], average = None))"
   ]
  },
  {
   "cell_type": "code",
   "execution_count": 348,
   "id": "f6ae8e3c",
   "metadata": {},
   "outputs": [
    {
     "name": "stdout",
     "output_type": "stream",
     "text": [
      "ROC score: 0.7891539503036644\n"
     ]
    }
   ],
   "source": [
    "test_y_ohe = enc.transform(np.array(test_y).reshape([-1,1])).toarray()\n",
    "logistic_clf_predict_prob = logistic_clf_model.predict_proba(test_x)\n",
    "print('ROC score:', metrics.roc_auc_score(test_y_ohe, logistic_clf_predict_prob))"
   ]
  },
  {
   "cell_type": "markdown",
   "id": "c54d602e",
   "metadata": {},
   "source": [
    "### K Nearest Neighbors"
   ]
  },
  {
   "cell_type": "code",
   "execution_count": 257,
   "id": "67fecbd2",
   "metadata": {},
   "outputs": [],
   "source": [
    "train_x_small, val_x, train_y_small, val_y = train_test_split(train_x, train_y, test_size = 0.1, random_state = 32)"
   ]
  },
  {
   "cell_type": "code",
   "execution_count": 259,
   "id": "0083cb93",
   "metadata": {},
   "outputs": [
    {
     "data": {
      "text/plain": [
       "KNeighborsClassifier()"
      ]
     },
     "execution_count": 259,
     "metadata": {},
     "output_type": "execute_result"
    }
   ],
   "source": [
    "KNN_model = KNN(n_neighbors = 5)\n",
    "KNN_model.fit(train_x_small, train_y_small)"
   ]
  },
  {
   "cell_type": "code",
   "execution_count": 270,
   "id": "850c404e",
   "metadata": {},
   "outputs": [],
   "source": [
    "acc_val_knn = []\n",
    "for k in np.arange(30,60, 5):\n",
    "    KNN_model = KNN(n_neighbors = k)\n",
    "    KNN_model.fit(train_x_small, train_y_small)\n",
    "    acc_val_knn.append(KNN_model.score(val_x, val_y)) # compute accuracy of predictiosn on validation set"
   ]
  },
  {
   "cell_type": "code",
   "execution_count": 288,
   "id": "c06f2ab8",
   "metadata": {},
   "outputs": [
    {
     "data": {
      "text/plain": [
       "Text(0, 0.5, ' Validation Accuracy')"
      ]
     },
     "execution_count": 288,
     "metadata": {},
     "output_type": "execute_result"
    },
    {
     "data": {
      "image/png": "[encoded data removed]",
      "text/plain": [
       "<Figure size 432x288 with 1 Axes>"
      ]
     },
     "metadata": {
      "needs_background": "light"
     },
     "output_type": "display_data"
    }
   ],
   "source": [
    "plt.plot(np.arange(1, 60, 5), acc_val_knn)\n",
    "plt.title('Number of Neighbors (k) vs KNN validation accuracy')\n",
    "plt.xlabel('k values')\n",
    "plt.ylabel(' Validation Accuracy')"
   ]
  },
  {
   "cell_type": "markdown",
   "id": "2f940a9a",
   "metadata": {},
   "source": [
    "We can see that the optimal K value is somewhere between 1 and 12"
   ]
  },
  {
   "cell_type": "code",
   "execution_count": 279,
   "id": "8a7f2839",
   "metadata": {},
   "outputs": [],
   "source": [
    "acc_val_knn = []\n",
    "for k in np.arange(1, 12, 2):\n",
    "    KNN_model = KNN(n_neighbors = k)\n",
    "    KNN_model.fit(train_x_small, train_y_small)\n",
    "    acc_val_knn.append(KNN_model.score(val_x, val_y)) # compute accuracy of predictiosn on validation set"
   ]
  },
  {
   "cell_type": "code",
   "execution_count": 285,
   "id": "e69d7b91",
   "metadata": {},
   "outputs": [
    {
     "data": {
      "text/plain": [
       "Text(0, 0.5, ' Validation Accuracy')"
      ]
     },
     "execution_count": 285,
     "metadata": {},
     "output_type": "execute_result"
    },
    {
     "data": {
      "image/png": "[encoded data removed]",
      "text/plain": [
       "<Figure size 432x288 with 1 Axes>"
      ]
     },
     "metadata": {
      "needs_background": "light"
     },
     "output_type": "display_data"
    }
   ],
   "source": [
    "plt.plot(np.arange(1, 12, 2), acc_val_knn)\n",
    "plt.title('Number of Neighbors (k) vs KNN validation accuracy')\n",
    "plt.xlabel('k values')\n",
    "plt.ylabel(' Validation Accuracy')"
   ]
  },
  {
   "cell_type": "markdown",
   "id": "cf3a475a",
   "metadata": {},
   "source": [
    "Hence optimal k value is 5"
   ]
  },
  {
   "cell_type": "code",
   "execution_count": 289,
   "id": "5c0257a5",
   "metadata": {},
   "outputs": [],
   "source": [
    "k = 5\n",
    "KNN_model = KNN(n_neighbors = k)\n",
    "KNN_model.fit(train_x, train_y)\n",
    "KNN_predict = KNN_model.predict(test_x)"
   ]
  },
  {
   "cell_type": "markdown",
   "id": "7dd79828",
   "metadata": {},
   "source": [
    "#### KNN Model Performance"
   ]
  },
  {
   "cell_type": "code",
   "execution_count": 291,
   "id": "fe12524e",
   "metadata": {},
   "outputs": [
    {
     "name": "stdout",
     "output_type": "stream",
     "text": [
      "\t \u001b[1m  Confusion Matrix \n",
      " \n",
      "  \u001b[0m \t  \t Actual\n"
     ]
    },
    {
     "data": {
      "text/html": [
       "<div>\n",
       "<style scoped>\n",
       "    .dataframe tbody tr th:only-of-type {\n",
       "        vertical-align: middle;\n",
       "    }\n",
       "\n",
       "    .dataframe tbody tr th {\n",
       "        vertical-align: top;\n",
       "    }\n",
       "\n",
       "    .dataframe thead th {\n",
       "        text-align: right;\n",
       "    }\n",
       "</style>\n",
       "<table border=\"1\" class=\"dataframe\">\n",
       "  <thead>\n",
       "    <tr style=\"text-align: right;\">\n",
       "      <th></th>\n",
       "      <th>No Diabetes</th>\n",
       "      <th>Pre-diabetes</th>\n",
       "      <th>Diabetes</th>\n",
       "    </tr>\n",
       "  </thead>\n",
       "  <tbody>\n",
       "    <tr>\n",
       "      <th>No Diabetes</th>\n",
       "      <td>20399</td>\n",
       "      <td>403</td>\n",
       "      <td>2814</td>\n",
       "    </tr>\n",
       "    <tr>\n",
       "      <th>Pre-diabetes</th>\n",
       "      <td>15</td>\n",
       "      <td>0</td>\n",
       "      <td>9</td>\n",
       "    </tr>\n",
       "    <tr>\n",
       "      <th>Diabetes</th>\n",
       "      <td>995</td>\n",
       "      <td>70</td>\n",
       "      <td>663</td>\n",
       "    </tr>\n",
       "  </tbody>\n",
       "</table>\n",
       "</div>"
      ],
      "text/plain": [
       "              No Diabetes  Pre-diabetes  Diabetes\n",
       "No Diabetes         20399           403      2814\n",
       "Pre-diabetes           15             0         9\n",
       "Diabetes              995            70       663"
      ]
     },
     "execution_count": 291,
     "metadata": {},
     "output_type": "execute_result"
    }
   ],
   "source": [
    "cm_KNN = metrics.confusion_matrix(KNN_predict, test_y, labels = [0,1,2])\n",
    "cm_KNN =  pd.DataFrame(cm_KNN, columns= ['No Diabetes', 'Pre-diabetes', 'Diabetes'], index =  ['No Diabetes', 'Pre-diabetes', 'Diabetes'])\n",
    "print('\\t \\033[1m  Confusion Matrix \\n \\n  \\033[0m', '\\t  \\t Actual')\n",
    "cm_KNN"
   ]
  },
  {
   "cell_type": "code",
   "execution_count": 296,
   "id": "794394e1",
   "metadata": {},
   "outputs": [
    {
     "name": "stdout",
     "output_type": "stream",
     "text": [
      "F1-score for KNN for predicting 0, 1, 2 labels: [0.90611882 0.         0.2543153 ]\n"
     ]
    }
   ],
   "source": [
    "print('F1-score for KNN for predicting 0, 1, 2 labels:', metrics.f1_score(KNN_predict, test_y, labels = [0,1,2], average = None))"
   ]
  },
  {
   "cell_type": "code",
   "execution_count": 350,
   "id": "603c6cc0",
   "metadata": {},
   "outputs": [
    {
     "name": "stdout",
     "output_type": "stream",
     "text": [
      "ROC score: 0.6481962981437928\n"
     ]
    }
   ],
   "source": [
    "KNN_predict_prob = KNN_model.predict_proba(test_x)\n",
    "print('ROC score:', metrics.roc_auc_score(test_y_ohe, KNN_predict_prob))"
   ]
  },
  {
   "cell_type": "markdown",
   "id": "f6d5a037",
   "metadata": {},
   "source": [
    "### Ada-Boost"
   ]
  },
  {
   "cell_type": "code",
   "execution_count": 371,
   "id": "c608dbdc",
   "metadata": {},
   "outputs": [
    {
     "data": {
      "text/plain": [
       "(25368, 21)"
      ]
     },
     "execution_count": 371,
     "metadata": {},
     "output_type": "execute_result"
    }
   ],
   "source": [
    "test_x.shape"
   ]
  },
  {
   "cell_type": "code",
   "execution_count": null,
   "id": "62275515",
   "metadata": {},
   "outputs": [],
   "source": []
  }
 ],
 "metadata": {
  "kernelspec": {
   "display_name": "Python 3",
   "language": "python",
   "name": "python3"
  },
  "language_info": {
   "codemirror_mode": {
    "name": "ipython",
    "version": 3
   },
   "file_extension": ".py",
   "mimetype": "text/x-python",
   "name": "python",
   "nbconvert_exporter": "python",
   "pygments_lexer": "ipython3",
   "version": "3.8.8"
  }
 },
 "nbformat": 4,
 "nbformat_minor": 5
}
