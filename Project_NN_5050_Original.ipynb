{
  "nbformat": 4,
  "nbformat_minor": 0,
  "metadata": {
    "colab": {
      "name": "Project_NN_5050_Original.ipynb",
      "provenance": []
    },
    "kernelspec": {
      "name": "python3",
      "display_name": "Python 3"
    },
    "language_info": {
      "name": "python"
    },
    "widgets": {
      "application/vnd.jupyter.widget-state+json": {
        "fc55f49035e246088417883ee0394095": {
          "model_module": "@jupyter-widgets/controls",
          "model_name": "HBoxModel",
          "model_module_version": "1.5.0",
          "state": {
            "_view_name": "HBoxView",
            "_dom_classes": [],
            "_model_name": "HBoxModel",
            "_view_module": "@jupyter-widgets/controls",
            "_model_module_version": "1.5.0",
            "_view_count": null,
            "_view_module_version": "1.5.0",
            "box_style": "",
            "layout": "IPY_MODEL_4d4599ce63ae47828588d23e1995dc1c",
            "_model_module": "@jupyter-widgets/controls",
            "children": [
              "IPY_MODEL_6bd58ae94145418ab359a5ba97fad6da",
              "IPY_MODEL_1d71881d10934fb88c6316fcfaf598e1",
              "IPY_MODEL_82e1903ce08f430fb9efb3282a96963d"
            ]
          }
        },
        "4d4599ce63ae47828588d23e1995dc1c": {
          "model_module": "@jupyter-widgets/base",
          "model_name": "LayoutModel",
          "model_module_version": "1.2.0",
          "state": {
            "_view_name": "LayoutView",
            "grid_template_rows": null,
            "right": null,
            "justify_content": null,
            "_view_module": "@jupyter-widgets/base",
            "overflow": null,
            "_model_module_version": "1.2.0",
            "_view_count": null,
            "flex_flow": null,
            "width": null,
            "min_width": null,
            "border": null,
            "align_items": null,
            "bottom": null,
            "_model_module": "@jupyter-widgets/base",
            "top": null,
            "grid_column": null,
            "overflow_y": null,
            "overflow_x": null,
            "grid_auto_flow": null,
            "grid_area": null,
            "grid_template_columns": null,
            "flex": null,
            "_model_name": "LayoutModel",
            "justify_items": null,
            "grid_row": null,
            "max_height": null,
            "align_content": null,
            "visibility": null,
            "align_self": null,
            "height": null,
            "min_height": null,
            "padding": null,
            "grid_auto_rows": null,
            "grid_gap": null,
            "max_width": null,
            "order": null,
            "_view_module_version": "1.2.0",
            "grid_template_areas": null,
            "object_position": null,
            "object_fit": null,
            "grid_auto_columns": null,
            "margin": null,
            "display": null,
            "left": null
          }
        },
        "6bd58ae94145418ab359a5ba97fad6da": {
          "model_module": "@jupyter-widgets/controls",
          "model_name": "HTMLModel",
          "model_module_version": "1.5.0",
          "state": {
            "_view_name": "HTMLView",
            "style": "IPY_MODEL_f4004244aff24d1d88506a96a4cc7efc",
            "_dom_classes": [],
            "description": "",
            "_model_name": "HTMLModel",
            "placeholder": "​",
            "_view_module": "@jupyter-widgets/controls",
            "_model_module_version": "1.5.0",
            "value": "100%",
            "_view_count": null,
            "_view_module_version": "1.5.0",
            "description_tooltip": null,
            "_model_module": "@jupyter-widgets/controls",
            "layout": "IPY_MODEL_f19e749090c447939af1599163e835ce"
          }
        },
        "1d71881d10934fb88c6316fcfaf598e1": {
          "model_module": "@jupyter-widgets/controls",
          "model_name": "FloatProgressModel",
          "model_module_version": "1.5.0",
          "state": {
            "_view_name": "ProgressView",
            "style": "IPY_MODEL_ce00de6001b745dd8e49f26570da8abd",
            "_dom_classes": [],
            "description": "",
            "_model_name": "FloatProgressModel",
            "bar_style": "success",
            "max": 30,
            "_view_module": "@jupyter-widgets/controls",
            "_model_module_version": "1.5.0",
            "value": 30,
            "_view_count": null,
            "_view_module_version": "1.5.0",
            "orientation": "horizontal",
            "min": 0,
            "description_tooltip": null,
            "_model_module": "@jupyter-widgets/controls",
            "layout": "IPY_MODEL_dcfaaff7cfbd46dda92e0aac951a0a84"
          }
        },
        "82e1903ce08f430fb9efb3282a96963d": {
          "model_module": "@jupyter-widgets/controls",
          "model_name": "HTMLModel",
          "model_module_version": "1.5.0",
          "state": {
            "_view_name": "HTMLView",
            "style": "IPY_MODEL_7dec6151a77744c1b99930a395d096d4",
            "_dom_classes": [],
            "description": "",
            "_model_name": "HTMLModel",
            "placeholder": "​",
            "_view_module": "@jupyter-widgets/controls",
            "_model_module_version": "1.5.0",
            "value": " 30/30 [02:26&lt;00:00,  4.85s/it]",
            "_view_count": null,
            "_view_module_version": "1.5.0",
            "description_tooltip": null,
            "_model_module": "@jupyter-widgets/controls",
            "layout": "IPY_MODEL_059166d0f95348ec989e7cf336e35f4d"
          }
        },
        "f4004244aff24d1d88506a96a4cc7efc": {
          "model_module": "@jupyter-widgets/controls",
          "model_name": "DescriptionStyleModel",
          "model_module_version": "1.5.0",
          "state": {
            "_view_name": "StyleView",
            "_model_name": "DescriptionStyleModel",
            "description_width": "",
            "_view_module": "@jupyter-widgets/base",
            "_model_module_version": "1.5.0",
            "_view_count": null,
            "_view_module_version": "1.2.0",
            "_model_module": "@jupyter-widgets/controls"
          }
        },
        "f19e749090c447939af1599163e835ce": {
          "model_module": "@jupyter-widgets/base",
          "model_name": "LayoutModel",
          "model_module_version": "1.2.0",
          "state": {
            "_view_name": "LayoutView",
            "grid_template_rows": null,
            "right": null,
            "justify_content": null,
            "_view_module": "@jupyter-widgets/base",
            "overflow": null,
            "_model_module_version": "1.2.0",
            "_view_count": null,
            "flex_flow": null,
            "width": null,
            "min_width": null,
            "border": null,
            "align_items": null,
            "bottom": null,
            "_model_module": "@jupyter-widgets/base",
            "top": null,
            "grid_column": null,
            "overflow_y": null,
            "overflow_x": null,
            "grid_auto_flow": null,
            "grid_area": null,
            "grid_template_columns": null,
            "flex": null,
            "_model_name": "LayoutModel",
            "justify_items": null,
            "grid_row": null,
            "max_height": null,
            "align_content": null,
            "visibility": null,
            "align_self": null,
            "height": null,
            "min_height": null,
            "padding": null,
            "grid_auto_rows": null,
            "grid_gap": null,
            "max_width": null,
            "order": null,
            "_view_module_version": "1.2.0",
            "grid_template_areas": null,
            "object_position": null,
            "object_fit": null,
            "grid_auto_columns": null,
            "margin": null,
            "display": null,
            "left": null
          }
        },
        "ce00de6001b745dd8e49f26570da8abd": {
          "model_module": "@jupyter-widgets/controls",
          "model_name": "ProgressStyleModel",
          "model_module_version": "1.5.0",
          "state": {
            "_view_name": "StyleView",
            "_model_name": "ProgressStyleModel",
            "description_width": "",
            "_view_module": "@jupyter-widgets/base",
            "_model_module_version": "1.5.0",
            "_view_count": null,
            "_view_module_version": "1.2.0",
            "bar_color": null,
            "_model_module": "@jupyter-widgets/controls"
          }
        },
        "dcfaaff7cfbd46dda92e0aac951a0a84": {
          "model_module": "@jupyter-widgets/base",
          "model_name": "LayoutModel",
          "model_module_version": "1.2.0",
          "state": {
            "_view_name": "LayoutView",
            "grid_template_rows": null,
            "right": null,
            "justify_content": null,
            "_view_module": "@jupyter-widgets/base",
            "overflow": null,
            "_model_module_version": "1.2.0",
            "_view_count": null,
            "flex_flow": null,
            "width": null,
            "min_width": null,
            "border": null,
            "align_items": null,
            "bottom": null,
            "_model_module": "@jupyter-widgets/base",
            "top": null,
            "grid_column": null,
            "overflow_y": null,
            "overflow_x": null,
            "grid_auto_flow": null,
            "grid_area": null,
            "grid_template_columns": null,
            "flex": null,
            "_model_name": "LayoutModel",
            "justify_items": null,
            "grid_row": null,
            "max_height": null,
            "align_content": null,
            "visibility": null,
            "align_self": null,
            "height": null,
            "min_height": null,
            "padding": null,
            "grid_auto_rows": null,
            "grid_gap": null,
            "max_width": null,
            "order": null,
            "_view_module_version": "1.2.0",
            "grid_template_areas": null,
            "object_position": null,
            "object_fit": null,
            "grid_auto_columns": null,
            "margin": null,
            "display": null,
            "left": null
          }
        },
        "7dec6151a77744c1b99930a395d096d4": {
          "model_module": "@jupyter-widgets/controls",
          "model_name": "DescriptionStyleModel",
          "model_module_version": "1.5.0",
          "state": {
            "_view_name": "StyleView",
            "_model_name": "DescriptionStyleModel",
            "description_width": "",
            "_view_module": "@jupyter-widgets/base",
            "_model_module_version": "1.5.0",
            "_view_count": null,
            "_view_module_version": "1.2.0",
            "_model_module": "@jupyter-widgets/controls"
          }
        },
        "059166d0f95348ec989e7cf336e35f4d": {
          "model_module": "@jupyter-widgets/base",
          "model_name": "LayoutModel",
          "model_module_version": "1.2.0",
          "state": {
            "_view_name": "LayoutView",
            "grid_template_rows": null,
            "right": null,
            "justify_content": null,
            "_view_module": "@jupyter-widgets/base",
            "overflow": null,
            "_model_module_version": "1.2.0",
            "_view_count": null,
            "flex_flow": null,
            "width": null,
            "min_width": null,
            "border": null,
            "align_items": null,
            "bottom": null,
            "_model_module": "@jupyter-widgets/base",
            "top": null,
            "grid_column": null,
            "overflow_y": null,
            "overflow_x": null,
            "grid_auto_flow": null,
            "grid_area": null,
            "grid_template_columns": null,
            "flex": null,
            "_model_name": "LayoutModel",
            "justify_items": null,
            "grid_row": null,
            "max_height": null,
            "align_content": null,
            "visibility": null,
            "align_self": null,
            "height": null,
            "min_height": null,
            "padding": null,
            "grid_auto_rows": null,
            "grid_gap": null,
            "max_width": null,
            "order": null,
            "_view_module_version": "1.2.0",
            "grid_template_areas": null,
            "object_position": null,
            "object_fit": null,
            "grid_auto_columns": null,
            "margin": null,
            "display": null,
            "left": null
          }
        }
      }
    }
  },
  "cells": [
    {
      "cell_type": "code",
      "execution_count": null,
      "metadata": {
        "id": "vAkOBxwcN8Ou"
      },
      "outputs": [],
      "source": [
        "import numpy as np\n",
        "import pandas as pd\n",
        "import seaborn as sns\n",
        "from tqdm.notebook import tqdm\n",
        "import matplotlib.pyplot as plt\n",
        "from torch.utils.data import Dataset, DataLoader"
      ]
    },
    {
      "cell_type": "code",
      "source": [
        "import torch\n",
        "import torch.nn as nn\n",
        "import torch.optim as optim"
      ],
      "metadata": {
        "id": "8qa_mE8FN-ml"
      },
      "execution_count": null,
      "outputs": []
    },
    {
      "cell_type": "code",
      "source": [
        "from torchsummary import summary\n",
        "\n",
        "from sklearn.preprocessing import MinMaxScaler    \n",
        "from sklearn.model_selection import train_test_split\n",
        "from sklearn.metrics import confusion_matrix, classification_report"
      ],
      "metadata": {
        "id": "Mgf4fPc9OBFS"
      },
      "execution_count": null,
      "outputs": []
    },
    {
      "cell_type": "code",
      "source": [
        "device = torch.device(\"cuda\" if torch.cuda.is_available() else \"cpu\")"
      ],
      "metadata": {
        "id": "SboilfOQOEKt"
      },
      "execution_count": null,
      "outputs": []
    },
    {
      "cell_type": "code",
      "source": [
        "data = pd.read_csv('diabetes_binary_5050.csv')\n",
        "data.head()"
      ],
      "metadata": {
        "colab": {
          "base_uri": "https://localhost:8080/",
          "height": 226
        },
        "id": "H5rPvZInOGD2",
        "outputId": "f8133ab9-caef-45ea-ef25-49f8875d68ab"
      },
      "execution_count": null,
      "outputs": [
        {
          "output_type": "execute_result",
          "data": {
            "text/html": [
              "<div>\n",
              "<style scoped>\n",
              "    .dataframe tbody tr th:only-of-type {\n",
              "        vertical-align: middle;\n",
              "    }\n",
              "\n",
              "    .dataframe tbody tr th {\n",
              "        vertical-align: top;\n",
              "    }\n",
              "\n",
              "    .dataframe thead th {\n",
              "        text-align: right;\n",
              "    }\n",
              "</style>\n",
              "<table border=\"1\" class=\"dataframe\">\n",
              "  <thead>\n",
              "    <tr style=\"text-align: right;\">\n",
              "      <th></th>\n",
              "      <th>Diabetes_binary</th>\n",
              "      <th>HighBP</th>\n",
              "      <th>HighChol</th>\n",
              "      <th>CholCheck</th>\n",
              "      <th>BMI</th>\n",
              "      <th>Smoker</th>\n",
              "      <th>Stroke</th>\n",
              "      <th>HeartDiseaseorAttack</th>\n",
              "      <th>PhysActivity</th>\n",
              "      <th>Fruits</th>\n",
              "      <th>Veggies</th>\n",
              "      <th>HvyAlcoholConsump</th>\n",
              "      <th>AnyHealthcare</th>\n",
              "      <th>NoDocbcCost</th>\n",
              "      <th>GenHlth</th>\n",
              "      <th>MentHlth</th>\n",
              "      <th>PhysHlth</th>\n",
              "      <th>DiffWalk</th>\n",
              "      <th>Sex</th>\n",
              "      <th>Age</th>\n",
              "      <th>Education</th>\n",
              "      <th>Income</th>\n",
              "    </tr>\n",
              "  </thead>\n",
              "  <tbody>\n",
              "    <tr>\n",
              "      <th>0</th>\n",
              "      <td>0.0</td>\n",
              "      <td>1.0</td>\n",
              "      <td>0.0</td>\n",
              "      <td>1.0</td>\n",
              "      <td>26.0</td>\n",
              "      <td>0.0</td>\n",
              "      <td>0.0</td>\n",
              "      <td>0.0</td>\n",
              "      <td>1.0</td>\n",
              "      <td>0.0</td>\n",
              "      <td>1.0</td>\n",
              "      <td>0.0</td>\n",
              "      <td>1.0</td>\n",
              "      <td>0.0</td>\n",
              "      <td>3.0</td>\n",
              "      <td>5.0</td>\n",
              "      <td>30.0</td>\n",
              "      <td>0.0</td>\n",
              "      <td>1.0</td>\n",
              "      <td>4.0</td>\n",
              "      <td>6.0</td>\n",
              "      <td>8.0</td>\n",
              "    </tr>\n",
              "    <tr>\n",
              "      <th>1</th>\n",
              "      <td>0.0</td>\n",
              "      <td>1.0</td>\n",
              "      <td>1.0</td>\n",
              "      <td>1.0</td>\n",
              "      <td>26.0</td>\n",
              "      <td>1.0</td>\n",
              "      <td>1.0</td>\n",
              "      <td>0.0</td>\n",
              "      <td>0.0</td>\n",
              "      <td>1.0</td>\n",
              "      <td>0.0</td>\n",
              "      <td>0.0</td>\n",
              "      <td>1.0</td>\n",
              "      <td>0.0</td>\n",
              "      <td>3.0</td>\n",
              "      <td>0.0</td>\n",
              "      <td>0.0</td>\n",
              "      <td>0.0</td>\n",
              "      <td>1.0</td>\n",
              "      <td>12.0</td>\n",
              "      <td>6.0</td>\n",
              "      <td>8.0</td>\n",
              "    </tr>\n",
              "    <tr>\n",
              "      <th>2</th>\n",
              "      <td>0.0</td>\n",
              "      <td>0.0</td>\n",
              "      <td>0.0</td>\n",
              "      <td>1.0</td>\n",
              "      <td>26.0</td>\n",
              "      <td>0.0</td>\n",
              "      <td>0.0</td>\n",
              "      <td>0.0</td>\n",
              "      <td>1.0</td>\n",
              "      <td>1.0</td>\n",
              "      <td>1.0</td>\n",
              "      <td>0.0</td>\n",
              "      <td>1.0</td>\n",
              "      <td>0.0</td>\n",
              "      <td>1.0</td>\n",
              "      <td>0.0</td>\n",
              "      <td>10.0</td>\n",
              "      <td>0.0</td>\n",
              "      <td>1.0</td>\n",
              "      <td>13.0</td>\n",
              "      <td>6.0</td>\n",
              "      <td>8.0</td>\n",
              "    </tr>\n",
              "    <tr>\n",
              "      <th>3</th>\n",
              "      <td>0.0</td>\n",
              "      <td>1.0</td>\n",
              "      <td>1.0</td>\n",
              "      <td>1.0</td>\n",
              "      <td>28.0</td>\n",
              "      <td>1.0</td>\n",
              "      <td>0.0</td>\n",
              "      <td>0.0</td>\n",
              "      <td>1.0</td>\n",
              "      <td>1.0</td>\n",
              "      <td>1.0</td>\n",
              "      <td>0.0</td>\n",
              "      <td>1.0</td>\n",
              "      <td>0.0</td>\n",
              "      <td>3.0</td>\n",
              "      <td>0.0</td>\n",
              "      <td>3.0</td>\n",
              "      <td>0.0</td>\n",
              "      <td>1.0</td>\n",
              "      <td>11.0</td>\n",
              "      <td>6.0</td>\n",
              "      <td>8.0</td>\n",
              "    </tr>\n",
              "    <tr>\n",
              "      <th>4</th>\n",
              "      <td>0.0</td>\n",
              "      <td>0.0</td>\n",
              "      <td>0.0</td>\n",
              "      <td>1.0</td>\n",
              "      <td>29.0</td>\n",
              "      <td>1.0</td>\n",
              "      <td>0.0</td>\n",
              "      <td>0.0</td>\n",
              "      <td>1.0</td>\n",
              "      <td>1.0</td>\n",
              "      <td>1.0</td>\n",
              "      <td>0.0</td>\n",
              "      <td>1.0</td>\n",
              "      <td>0.0</td>\n",
              "      <td>2.0</td>\n",
              "      <td>0.0</td>\n",
              "      <td>0.0</td>\n",
              "      <td>0.0</td>\n",
              "      <td>0.0</td>\n",
              "      <td>8.0</td>\n",
              "      <td>5.0</td>\n",
              "      <td>8.0</td>\n",
              "    </tr>\n",
              "  </tbody>\n",
              "</table>\n",
              "</div>"
            ],
            "text/plain": [
              "   Diabetes_binary  HighBP  HighChol  CholCheck  ...  Sex   Age  Education  Income\n",
              "0              0.0     1.0       0.0        1.0  ...  1.0   4.0        6.0     8.0\n",
              "1              0.0     1.0       1.0        1.0  ...  1.0  12.0        6.0     8.0\n",
              "2              0.0     0.0       0.0        1.0  ...  1.0  13.0        6.0     8.0\n",
              "3              0.0     1.0       1.0        1.0  ...  1.0  11.0        6.0     8.0\n",
              "4              0.0     0.0       0.0        1.0  ...  0.0   8.0        5.0     8.0\n",
              "\n",
              "[5 rows x 22 columns]"
            ]
          },
          "metadata": {},
          "execution_count": 5
        }
      ]
    },
    {
      "cell_type": "code",
      "source": [
        "set(np.asarray(data['Diabetes_binary']))"
      ],
      "metadata": {
        "colab": {
          "base_uri": "https://localhost:8080/"
        },
        "id": "rxtuZ_wENMcQ",
        "outputId": "db808d88-732f-477e-8625-172099d8a70a"
      },
      "execution_count": null,
      "outputs": [
        {
          "output_type": "execute_result",
          "data": {
            "text/plain": [
              "{0.0, 1.0}"
            ]
          },
          "metadata": {},
          "execution_count": 6
        }
      ]
    },
    {
      "cell_type": "code",
      "source": [
        "sns.countplot(x = 'Diabetes_binary', data=data)"
      ],
      "metadata": {
        "colab": {
          "base_uri": "https://localhost:8080/",
          "height": 297
        },
        "id": "0ei_g7vVOHwT",
        "outputId": "135a2059-0fe3-4d51-807c-2b28dea4bec2"
      },
      "execution_count": null,
      "outputs": [
        {
          "output_type": "execute_result",
          "data": {
            "text/plain": [
              "<matplotlib.axes._subplots.AxesSubplot at 0x7ff25e074e10>"
            ]
          },
          "metadata": {},
          "execution_count": 7
        },
        {
          "output_type": "display_data",
          "data": {
            "image/png": "[encoded data removed]",
            "text/plain": [
              "<Figure size 432x288 with 1 Axes>"
            ]
          },
          "metadata": {
            "needs_background": "light"
          }
        }
      ]
    },
    {
      "cell_type": "code",
      "source": [
        "X = data.iloc[:, 1:]\n",
        "y = data.iloc[:, 0]"
      ],
      "metadata": {
        "id": "EInZBxXjONof"
      },
      "execution_count": null,
      "outputs": []
    },
    {
      "cell_type": "code",
      "source": [
        "# Split train into train-val\n",
        "X_trainval, X_test, y_trainval, y_test = train_test_split(X, y, test_size=0.1, stratify=y, random_state=32)\n",
        "X_train, X_val, y_train, y_val = train_test_split(X_trainval, y_trainval, stratify = y_trainval, random_state=32)"
      ],
      "metadata": {
        "id": "ZsweaF5NOX8I"
      },
      "execution_count": null,
      "outputs": []
    },
    {
      "cell_type": "code",
      "source": [
        "X_train.shape,X_val.shape, X_test.shape"
      ],
      "metadata": {
        "colab": {
          "base_uri": "https://localhost:8080/"
        },
        "id": "_sp_19JNOhWg",
        "outputId": "31a89800-c4b7-48d5-fbdc-2885bd4f2227"
      },
      "execution_count": null,
      "outputs": [
        {
          "output_type": "execute_result",
          "data": {
            "text/plain": [
              "((47716, 21), (15906, 21), (7070, 21))"
            ]
          },
          "metadata": {},
          "execution_count": 10
        }
      ]
    },
    {
      "cell_type": "code",
      "source": [
        "X_train, y_train = np.array(X_train), np.array(y_train)\n",
        "X_val, y_val = np.array(X_val), np.array(y_val)\n",
        "X_test, y_test = np.array(X_test), np.array(y_test)"
      ],
      "metadata": {
        "id": "IlXX1LX9OjAR"
      },
      "execution_count": null,
      "outputs": []
    },
    {
      "cell_type": "code",
      "source": [
        "class ClassifierDataset(Dataset):\n",
        "    \n",
        "    def __init__(self, X_data, y_data):\n",
        "        self.X_data = X_data\n",
        "        self.y_data = y_data\n",
        "        \n",
        "    def __getitem__(self, index):\n",
        "        return self.X_data[index], self.y_data[index]\n",
        "        \n",
        "    def __len__ (self):\n",
        "        return len(self.X_data)\n",
        "\n",
        "\n",
        "train_dataset = ClassifierDataset(torch.from_numpy(X_train).float(), torch.from_numpy(y_train).long())\n",
        "val_dataset = ClassifierDataset(torch.from_numpy(X_val).float(), torch.from_numpy(y_val).long())\n",
        "test_dataset = ClassifierDataset(torch.from_numpy(X_test).float(), torch.from_numpy(y_test).long())"
      ],
      "metadata": {
        "id": "q7OvQiHHOtto"
      },
      "execution_count": null,
      "outputs": []
    },
    {
      "cell_type": "code",
      "source": [
        "#hyperparameter tuning\n",
        "epochs = 30\n",
        "batch_size = 50\n",
        "learning_rate = 0.00006\n",
        "num_features = len(X.columns)\n",
        "num_classes = len(set(y))"
      ],
      "metadata": {
        "id": "H7PVhfz6Ow0a"
      },
      "execution_count": null,
      "outputs": []
    },
    {
      "cell_type": "code",
      "source": [
        "#initializing dataloader for train, val and test data\n",
        "train_loader = DataLoader(dataset=train_dataset,\n",
        "                          batch_size=batch_size,\n",
        ")\n",
        "val_loader = DataLoader(dataset=val_dataset, batch_size= 1) #len(X_val)\n",
        "test_loader = DataLoader(dataset=test_dataset, batch_size=1) #len(X_test)"
      ],
      "metadata": {
        "id": "mBVSkYKKO9jD"
      },
      "execution_count": null,
      "outputs": []
    },
    {
      "cell_type": "code",
      "source": [
        "# test1- 12,8,6\n",
        "# test2 - 16,8,4\n",
        "# test3 - 32,16,4\n"
      ],
      "metadata": {
        "id": "PSEz7IZdP5LS"
      },
      "execution_count": null,
      "outputs": []
    },
    {
      "cell_type": "code",
      "source": [
        "#defining our neural net\n",
        "class Net(nn.Module):\n",
        "    def __init__(self, num_features, num_classes):\n",
        "        super(Net, self).__init__()\n",
        "\n",
        "        self.fc1 = nn.Linear(num_features, 16)\n",
        "        self.fc2 = nn.Linear(16, 8 )\n",
        "        self.fc3 = nn.Linear(8, 4)\n",
        "        self.fc4 = nn.Linear(4, num_classes)\n",
        "        self.relu = nn.ReLU()\n",
        "        #self.dropout = nn.Dropout(p=0.5)\n",
        "        #self.batchnorm1 = nn.BatchNorm1d(64)\n",
        "        #self.batchnorm2 = nn.BatchNorm1d(32)\n",
        "        #self.batchnorm3 = nn.BatchNorm1d(8)\n",
        "\n",
        "    def forward(self, x):\n",
        "        out = self.fc1(x)\n",
        "        #out = self.batchnorm1(out)\n",
        "        out = self.relu(out)\n",
        "        \n",
        "        out = self.fc2(out)\n",
        "        #out = self.batchnorm2(out)\n",
        "        out = self.relu(out)\n",
        "        #out = self.dropout(out)\n",
        "        \n",
        "        out = self.fc3(out)\n",
        "        #out = self.batchnorm3(out)\n",
        "        out = self.relu(out)\n",
        "        #out = self.dropout(out)\n",
        "        \n",
        "        out = self.fc4(out)\n",
        "\n",
        "        return out\n",
        "        "
      ],
      "metadata": {
        "id": "YN4fuNcvO_j-"
      },
      "execution_count": null,
      "outputs": []
    },
    {
      "cell_type": "code",
      "source": [
        "model = Net(num_features = num_features, num_classes = num_classes)\n",
        "print(model)"
      ],
      "metadata": {
        "colab": {
          "base_uri": "https://localhost:8080/"
        },
        "id": "K4-NPBWHPIVm",
        "outputId": "ae30ecad-bef4-466c-b676-c8af9cb4eada"
      },
      "execution_count": null,
      "outputs": [
        {
          "output_type": "stream",
          "name": "stdout",
          "text": [
            "Net(\n",
            "  (fc1): Linear(in_features=21, out_features=16, bias=True)\n",
            "  (fc2): Linear(in_features=16, out_features=8, bias=True)\n",
            "  (fc3): Linear(in_features=8, out_features=4, bias=True)\n",
            "  (fc4): Linear(in_features=4, out_features=2, bias=True)\n",
            "  (relu): ReLU()\n",
            ")\n"
          ]
        }
      ]
    },
    {
      "cell_type": "code",
      "source": [
        "model.to(device)"
      ],
      "metadata": {
        "colab": {
          "base_uri": "https://localhost:8080/"
        },
        "id": "qDFOaNihPKCm",
        "outputId": "94ea24e4-720a-469e-802c-4cbc4ea13408"
      },
      "execution_count": null,
      "outputs": [
        {
          "output_type": "execute_result",
          "data": {
            "text/plain": [
              "Net(\n",
              "  (fc1): Linear(in_features=21, out_features=16, bias=True)\n",
              "  (fc2): Linear(in_features=16, out_features=8, bias=True)\n",
              "  (fc3): Linear(in_features=8, out_features=4, bias=True)\n",
              "  (fc4): Linear(in_features=4, out_features=2, bias=True)\n",
              "  (relu): ReLU()\n",
              ")"
            ]
          },
          "metadata": {},
          "execution_count": 18
        }
      ]
    },
    {
      "cell_type": "code",
      "source": [
        "criterion = nn.CrossEntropyLoss()\n",
        "optimizer = optim.Adam(model.parameters(), lr=learning_rate)"
      ],
      "metadata": {
        "id": "xZpzn6EAPMHO"
      },
      "execution_count": null,
      "outputs": []
    },
    {
      "cell_type": "code",
      "source": [
        "def calculate_accuracy(y_pred, y_test):\n",
        "    #perform log_softmax on y_pred\n",
        "    y_pred_softmax = torch.log_softmax(y_pred, dim = 1)\n",
        "    #choose the class with highest probability\n",
        "    _, y_pred_tags = torch.max(y_pred_softmax, dim = 1)    \n",
        "    \n",
        "    #count the number of correct predictions\n",
        "    correct_pred = 0\n",
        "    for i in range(len(y_test)):\n",
        "      if y_pred_tags[i] == y_test[i]:\n",
        "        correct_pred += 1\n",
        "    \n",
        "\n",
        "    #correct_pred = (y_pred_tags == y_test).float()\n",
        "    acc = correct_pred / len(y_pred)\n",
        "    \n",
        "    acc = acc * 100\n",
        "    \n",
        "    return acc"
      ],
      "metadata": {
        "id": "-tlqqfyCPOSA"
      },
      "execution_count": null,
      "outputs": []
    },
    {
      "cell_type": "code",
      "source": [
        "train_loss_list = []\n",
        "train_acc_list = []\n",
        "val_loss_list = []\n",
        "val_acc_list = []\n",
        "train_loader_len = len(train_loader)\n",
        "val_loader_len = len(val_loader)\n",
        "\n",
        "for e in tqdm(range(1, epochs+1)):\n",
        "    \n",
        "    # TRAINING\n",
        "    train_epoch_loss = 0\n",
        "    train_epoch_acc = 0\n",
        "    model.train()\n",
        "    for X_train_batch, y_train_batch in train_loader:\n",
        "        X_train_batch, y_train_batch = X_train_batch.to(device), y_train_batch.to(device)\n",
        "        optimizer.zero_grad()\n",
        "        \n",
        "        y_train_pred = model.forward(X_train_batch)\n",
        "        \n",
        "        train_loss = criterion(y_train_pred, y_train_batch)\n",
        "        train_acc = calculate_accuracy(y_train_pred, y_train_batch)\n",
        "        \n",
        "        train_loss.backward()\n",
        "        optimizer.step()\n",
        "        \n",
        "        train_epoch_loss += train_loss.item()\n",
        "        train_epoch_acc += train_acc\n",
        "  \n",
        "    with torch.no_grad():\n",
        "      val_epoch_loss = 0\n",
        "      val_epoch_acc = 0\n",
        "      model.eval()\n",
        "      for X_val_batch, y_val_batch in val_loader:\n",
        "        X_val_batch, y_val_batch = X_val_batch.to(device), y_val_batch.to(device)\n",
        "        \n",
        "        y_val_pred = model.forward(X_val_batch)\n",
        "                    \n",
        "        val_loss = criterion(y_val_pred, y_val_batch)\n",
        "        val_acc = calculate_accuracy(y_val_pred, y_val_batch)\n",
        "        \n",
        "        val_epoch_loss += val_loss.item()\n",
        "        val_epoch_acc += val_acc\n",
        "        \n",
        "                              \n",
        "    \n",
        "    print(f'Epoch {e+0:03}: | Train Loss: {train_epoch_loss/len(train_loader):.5f} | Val Loss: {val_epoch_loss/len(val_loader):.5f} | Train Acc: {train_epoch_acc/len(train_loader):.3f}| Val Acc: {val_epoch_acc/len(val_loader):.3f}')\n",
        "    #print(f'Epoch {e+0:03}: | Train Loss: {train_epoch_loss/len(train_loader):.5f} | Train Acc: {train_epoch_acc/len(train_loader):.3f}')\n",
        "\n",
        "    train_loss_list.append(train_epoch_loss/train_loader_len)\n",
        "    train_acc_list.append(train_epoch_acc/train_loader_len)\n",
        "    val_loss_list.append(val_epoch_loss/val_loader_len)\n",
        "    val_acc_list.append(val_epoch_acc/val_loader_len)\n",
        " \n"
      ],
      "metadata": {
        "colab": {
          "base_uri": "https://localhost:8080/",
          "height": 569,
          "referenced_widgets": [
            "fc55f49035e246088417883ee0394095",
            "4d4599ce63ae47828588d23e1995dc1c",
            "6bd58ae94145418ab359a5ba97fad6da",
            "1d71881d10934fb88c6316fcfaf598e1",
            "82e1903ce08f430fb9efb3282a96963d",
            "f4004244aff24d1d88506a96a4cc7efc",
            "f19e749090c447939af1599163e835ce",
            "ce00de6001b745dd8e49f26570da8abd",
            "dcfaaff7cfbd46dda92e0aac951a0a84",
            "7dec6151a77744c1b99930a395d096d4",
            "059166d0f95348ec989e7cf336e35f4d"
          ]
        },
        "id": "ctjh8108PRpq",
        "outputId": "be41b7e9-3467-4315-9625-8336902b1e91"
      },
      "execution_count": null,
      "outputs": [
        {
          "output_type": "display_data",
          "data": {
            "application/vnd.jupyter.widget-view+json": {
              "model_id": "fc55f49035e246088417883ee0394095",
              "version_minor": 0,
              "version_major": 2
            },
            "text/plain": [
              "  0%|          | 0/30 [00:00<?, ?it/s]"
            ]
          },
          "metadata": {}
        },
        {
          "output_type": "stream",
          "name": "stdout",
          "text": [
            "Epoch 001: | Train Loss: 0.69118 | Val Loss: 0.68616 | Train Acc: 50.009| Val Acc: 50.000\n",
            "Epoch 002: | Train Loss: 0.67656 | Val Loss: 0.66556 | Train Acc: 50.009| Val Acc: 50.000\n",
            "Epoch 003: | Train Loss: 0.65065 | Val Loss: 0.63706 | Train Acc: 65.407| Val Acc: 67.427\n",
            "Epoch 004: | Train Loss: 0.61669 | Val Loss: 0.60603 | Train Acc: 69.707| Val Acc: 69.722\n",
            "Epoch 005: | Train Loss: 0.59478 | Val Loss: 0.59021 | Train Acc: 71.162| Val Acc: 70.671\n",
            "Epoch 006: | Train Loss: 0.58150 | Val Loss: 0.57986 | Train Acc: 71.897| Val Acc: 71.168\n",
            "Epoch 007: | Train Loss: 0.57234 | Val Loss: 0.57271 | Train Acc: 72.215| Val Acc: 71.451\n",
            "Epoch 008: | Train Loss: 0.56555 | Val Loss: 0.56733 | Train Acc: 72.458| Val Acc: 71.539\n",
            "Epoch 009: | Train Loss: 0.56022 | Val Loss: 0.56298 | Train Acc: 72.705| Val Acc: 71.709\n",
            "Epoch 010: | Train Loss: 0.55584 | Val Loss: 0.55949 | Train Acc: 72.850| Val Acc: 71.891\n",
            "Epoch 011: | Train Loss: 0.55223 | Val Loss: 0.55657 | Train Acc: 73.042| Val Acc: 72.055\n",
            "Epoch 012: | Train Loss: 0.54921 | Val Loss: 0.55403 | Train Acc: 73.181| Val Acc: 72.180\n",
            "Epoch 013: | Train Loss: 0.54654 | Val Loss: 0.55172 | Train Acc: 73.285| Val Acc: 72.287\n",
            "Epoch 014: | Train Loss: 0.54409 | Val Loss: 0.54945 | Train Acc: 73.438| Val Acc: 72.375\n",
            "Epoch 015: | Train Loss: 0.54190 | Val Loss: 0.54736 | Train Acc: 73.486| Val Acc: 72.432\n",
            "Epoch 016: | Train Loss: 0.53994 | Val Loss: 0.54542 | Train Acc: 73.555| Val Acc: 72.501\n",
            "Epoch 017: | Train Loss: 0.53822 | Val Loss: 0.54383 | Train Acc: 73.570| Val Acc: 72.602\n",
            "Epoch 018: | Train Loss: 0.53676 | Val Loss: 0.54240 | Train Acc: 73.616| Val Acc: 72.759\n",
            "Epoch 019: | Train Loss: 0.53550 | Val Loss: 0.54117 | Train Acc: 73.650| Val Acc: 72.897\n",
            "Epoch 020: | Train Loss: 0.53436 | Val Loss: 0.54002 | Train Acc: 73.752| Val Acc: 72.928\n",
            "Epoch 021: | Train Loss: 0.53336 | Val Loss: 0.53902 | Train Acc: 73.782| Val Acc: 72.972\n",
            "Epoch 022: | Train Loss: 0.53250 | Val Loss: 0.53816 | Train Acc: 73.759| Val Acc: 73.016\n",
            "Epoch 023: | Train Loss: 0.53173 | Val Loss: 0.53736 | Train Acc: 73.795| Val Acc: 72.991\n",
            "Epoch 024: | Train Loss: 0.53099 | Val Loss: 0.53663 | Train Acc: 73.847| Val Acc: 73.048\n",
            "Epoch 025: | Train Loss: 0.53031 | Val Loss: 0.53591 | Train Acc: 73.851| Val Acc: 73.010\n",
            "Epoch 026: | Train Loss: 0.52967 | Val Loss: 0.53527 | Train Acc: 73.855| Val Acc: 73.004\n",
            "Epoch 027: | Train Loss: 0.52907 | Val Loss: 0.53460 | Train Acc: 73.864| Val Acc: 73.060\n",
            "Epoch 028: | Train Loss: 0.52850 | Val Loss: 0.53399 | Train Acc: 73.901| Val Acc: 73.067\n",
            "Epoch 029: | Train Loss: 0.52793 | Val Loss: 0.53335 | Train Acc: 73.929| Val Acc: 73.161\n",
            "Epoch 030: | Train Loss: 0.52738 | Val Loss: 0.53277 | Train Acc: 73.947| Val Acc: 73.186\n"
          ]
        }
      ]
    },
    {
      "cell_type": "code",
      "source": [
        "plt.title(\"Train and val loss vs. number of epochs\")\n",
        "plt.plot(train_loss_list)\n",
        "plt.plot(val_loss_list)\n",
        "plt.legend(['train','val'])\n",
        "plt.show()\n"
      ],
      "metadata": {
        "colab": {
          "base_uri": "https://localhost:8080/",
          "height": 281
        },
        "id": "a_wEmJbPPTSv",
        "outputId": "0711ff02-30b6-410a-91b2-769b4a20d319"
      },
      "execution_count": null,
      "outputs": [
        {
          "output_type": "display_data",
          "data": {
            "image/png": "[encoded data removed]",
            "text/plain": [
              "<Figure size 432x288 with 1 Axes>"
            ]
          },
          "metadata": {
            "needs_background": "light"
          }
        }
      ]
    },
    {
      "cell_type": "code",
      "source": [
        "torch.save(model, \"model.pth\")\n",
        "torch.save(model.state_dict(), \"model_weights.pth\")"
      ],
      "metadata": {
        "id": "GomEq5YSPceS"
      },
      "execution_count": null,
      "outputs": []
    },
    {
      "cell_type": "code",
      "source": [
        "plt.title(\"Train and val accuracy vs. number of epochs\")\n",
        "plt.plot(train_acc_list)\n",
        "plt.plot(val_acc_list)\n",
        "plt.legend(['train','val'])\n",
        "plt.show()"
      ],
      "metadata": {
        "colab": {
          "base_uri": "https://localhost:8080/",
          "height": 281
        },
        "id": "Y5PyifqrPdFw",
        "outputId": "622742f6-95ea-48a6-a36a-71e9acd01cc2"
      },
      "execution_count": null,
      "outputs": [
        {
          "output_type": "display_data",
          "data": {
            "image/png": "[encoded data removed]",
            "text/plain": [
              "<Figure size 432x288 with 1 Axes>"
            ]
          },
          "metadata": {
            "needs_background": "light"
          }
        }
      ]
    },
    {
      "cell_type": "code",
      "source": [
        "y_pred_list = []\n",
        "with torch.no_grad():\n",
        "    model.eval()\n",
        "    for X_batch, _ in test_loader:\n",
        "        X_batch = X_batch.to(device)\n",
        "        y_test_pred = model.forward(X_batch)\n",
        "        _, y_pred_tags = torch.max(y_test_pred, dim = 1)\n",
        "        y_pred_list.append(y_pred_tags.cpu().numpy())\n",
        "y_pred_list = [a.squeeze().tolist() for a in y_pred_list]"
      ],
      "metadata": {
        "id": "aBR3m3OEPer9"
      },
      "execution_count": null,
      "outputs": []
    },
    {
      "cell_type": "code",
      "source": [
        "set(np.asarray(y_test))"
      ],
      "metadata": {
        "colab": {
          "base_uri": "https://localhost:8080/"
        },
        "id": "EpFaE48PcHmZ",
        "outputId": "c344d6d1-a2ed-4d51-bc33-ae664a617667"
      },
      "execution_count": null,
      "outputs": [
        {
          "output_type": "execute_result",
          "data": {
            "text/plain": [
              "{0.0, 1.0}"
            ]
          },
          "metadata": {},
          "execution_count": 33
        }
      ]
    },
    {
      "cell_type": "code",
      "source": [
        "confusion_matrix_df = pd.DataFrame(confusion_matrix(y_test, y_pred_list)).rename(columns={0:0,1:1}, index={0:0,1:1})\n",
        "\n",
        "sns.heatmap(confusion_matrix_df, annot=True)"
      ],
      "metadata": {
        "colab": {
          "base_uri": "https://localhost:8080/",
          "height": 283
        },
        "id": "d1uDWbjoPh8m",
        "outputId": "b6226022-cb3d-496b-dd8a-b34438de68b9"
      },
      "execution_count": null,
      "outputs": [
        {
          "output_type": "execute_result",
          "data": {
            "text/plain": [
              "<matplotlib.axes._subplots.AxesSubplot at 0x7ff25cf78f90>"
            ]
          },
          "metadata": {},
          "execution_count": 34
        },
        {
          "output_type": "display_data",
          "data": {
            "image/png": "[encoded data removed]",
            "text/plain": [
              "<Figure size 432x288 with 2 Axes>"
            ]
          },
          "metadata": {
            "needs_background": "light"
          }
        }
      ]
    },
    {
      "cell_type": "code",
      "source": [
        "print(classification_report(y_test, y_pred_list))"
      ],
      "metadata": {
        "colab": {
          "base_uri": "https://localhost:8080/"
        },
        "id": "0utq3q9mPibp",
        "outputId": "d5b5454d-5898-452a-9747-6250b34da571"
      },
      "execution_count": null,
      "outputs": [
        {
          "output_type": "stream",
          "name": "stdout",
          "text": [
            "              precision    recall  f1-score   support\n",
            "\n",
            "         0.0       0.77      0.68      0.72      3535\n",
            "         1.0       0.71      0.80      0.76      3535\n",
            "\n",
            "    accuracy                           0.74      7070\n",
            "   macro avg       0.74      0.74      0.74      7070\n",
            "weighted avg       0.74      0.74      0.74      7070\n",
            "\n"
          ]
        }
      ]
    },
    {
      "cell_type": "code",
      "source": [
        ""
      ],
      "metadata": {
        "id": "8jW9eYP0QchU"
      },
      "execution_count": null,
      "outputs": []
    }
  ]
}